{
 "cells": [
  {
   "cell_type": "markdown",
   "metadata": {},
   "source": [
    "# Self-Driving Car Engineer Nanodegree\n",
    "\n",
    "## Deep Learning\n",
    "\n",
    "## Project: Build a Traffic Sign Recognition Classifier\n",
    "\n",
    "In this notebook, a template is provided for you to implement your functionality in stages, which is required to successfully complete this project. If additional code is required that cannot be included in the notebook, be sure that the Python code is successfully imported and included in your submission if necessary. \n",
    "\n",
    "> **Note**: Once you have completed all of the code implementations, you need to finalize your work by exporting the iPython Notebook as an HTML document. Before exporting the notebook to html, all of the code cells need to have been run so that reviewers can see the final implementation and output. You can then export the notebook by using the menu above and navigating to  \\n\",\n",
    "    \"**File -> Download as -> HTML (.html)**. Include the finished document along with this notebook as your submission. \n",
    "\n",
    "In addition to implementing code, there is a writeup to complete. The writeup should be completed in a separate file, which can be either a markdown file or a pdf document. There is a [write up template](https://github.com/udacity/CarND-Traffic-Sign-Classifier-Project/blob/master/writeup_template.md) that can be used to guide the writing process. Completing the code template and writeup template will cover all of the [rubric points](https://review.udacity.com/#!/rubrics/481/view) for this project.\n",
    "\n",
    "The [rubric](https://review.udacity.com/#!/rubrics/481/view) contains \"Stand Out Suggestions\" for enhancing the project beyond the minimum requirements. The stand out suggestions are optional. If you decide to pursue the \"stand out suggestions\", you can include the code in this Ipython notebook and also discuss the results in the writeup file.\n",
    "\n",
    "\n",
    ">**Note:** Code and Markdown cells can be executed using the **Shift + Enter** keyboard shortcut. In addition, Markdown cells can be edited by typically double-clicking the cell to enter edit mode."
   ]
  },
  {
   "cell_type": "markdown",
   "metadata": {},
   "source": [
    "---\n",
    "## Step 0: Load The Data"
   ]
  },
  {
   "cell_type": "code",
   "execution_count": 1,
   "metadata": {},
   "outputs": [],
   "source": [
    "# Load pickled data\n",
    "import pickle\n",
    "\n",
    "# TODO: Fill this in based on where you saved the training and testing data\n",
    "\n",
    "training_file = \"train.p\"\n",
    "validation_file= \"valid.p\"\n",
    "testing_file = \"test.p\"\n",
    "\n",
    "with open(training_file, mode='rb') as f:\n",
    "    train = pickle.load(f)\n",
    "with open(validation_file, mode='rb') as f:\n",
    "    valid = pickle.load(f)\n",
    "with open(testing_file, mode='rb') as f:\n",
    "    test = pickle.load(f)\n",
    "    \n",
    "X_train, y_train = train['features'], train['labels']\n",
    "X_valid, y_valid = valid['features'], valid['labels']\n",
    "X_test, y_test = test['features'], test['labels']"
   ]
  },
  {
   "cell_type": "markdown",
   "metadata": {},
   "source": [
    "---\n",
    "\n",
    "## Step 1: Dataset Summary & Exploration\n",
    "\n",
    "The pickled data is a dictionary with 4 key/value pairs:\n",
    "\n",
    "- `'features'` is a 4D array containing raw pixel data of the traffic sign images, (num examples, width, height, channels).\n",
    "- `'labels'` is a 1D array containing the label/class id of the traffic sign. The file `signnames.csv` contains id -> name mappings for each id.\n",
    "- `'sizes'` is a list containing tuples, (width, height) representing the original width and height the image.\n",
    "- `'coords'` is a list containing tuples, (x1, y1, x2, y2) representing coordinates of a bounding box around the sign in the image. **THESE COORDINATES ASSUME THE ORIGINAL IMAGE. THE PICKLED DATA CONTAINS RESIZED VERSIONS (32 by 32) OF THESE IMAGES**\n",
    "\n",
    "Complete the basic data summary below. Use python, numpy and/or pandas methods to calculate the data summary rather than hard coding the results. For example, the [pandas shape method](http://pandas.pydata.org/pandas-docs/stable/generated/pandas.DataFrame.shape.html) might be useful for calculating some of the summary results. "
   ]
  },
  {
   "cell_type": "markdown",
   "metadata": {},
   "source": [
    "### Provide a Basic Summary of the Data Set Using Python, Numpy and/or Pandas"
   ]
  },
  {
   "cell_type": "code",
   "execution_count": 2,
   "metadata": {},
   "outputs": [
    {
     "name": "stdout",
     "output_type": "stream",
     "text": [
      "Number of training examples = 34799\n",
      "Number of validation examples = 4410\n",
      "Number of testing examples = 12630\n",
      "Image data shape = (32, 32)\n",
      "Number of classes = 43\n"
     ]
    }
   ],
   "source": [
    "### Replace each question mark with the appropriate value. \n",
    "### Use python, pandas or numpy methods rather than hard coding the results\n",
    "import numpy as np\n",
    "\n",
    "# TODO: Number of training examples\n",
    "n_train = X_train.shape[0]\n",
    "\n",
    "# TODO: Number of validation examples\n",
    "n_validation = X_valid.shape[0]\n",
    "\n",
    "# TODO: Number of testing examples.\n",
    "n_test = X_test.shape[0]\n",
    "\n",
    "# TODO: What's the shape of an traffic sign image?\n",
    "image_shape = (X_train.shape[1], X_train.shape[2])  # (height, width)\n",
    "\n",
    "# TODO: How many unique classes/labels there are in the dataset.\n",
    "n_classes = np.unique(np.concatenate((y_train, y_valid, y_test))).size\n",
    "\n",
    "print(\"Number of training examples =\", n_train)\n",
    "print(\"Number of validation examples =\", n_validation)\n",
    "print(\"Number of testing examples =\", n_test)\n",
    "print(\"Image data shape =\", image_shape)\n",
    "print(\"Number of classes =\", n_classes)"
   ]
  },
  {
   "cell_type": "markdown",
   "metadata": {},
   "source": [
    "### Include an exploratory visualization of the dataset"
   ]
  },
  {
   "cell_type": "markdown",
   "metadata": {},
   "source": [
    "Visualize the German Traffic Signs Dataset using the pickled file(s). This is open ended, suggestions include: plotting traffic sign images, plotting the count of each sign, etc. \n",
    "\n",
    "The [Matplotlib](http://matplotlib.org/) [examples](http://matplotlib.org/examples/index.html) and [gallery](http://matplotlib.org/gallery.html) pages are a great resource for doing visualizations in Python.\n",
    "\n",
    "**NOTE:** It's recommended you start with something simple first. If you wish to do more, come back to it after you've completed the rest of the sections. It can be interesting to look at the distribution of classes in the training, validation and test set. Is the distribution the same? Are there more examples of some classes than others?"
   ]
  },
  {
   "cell_type": "code",
   "execution_count": 3,
   "metadata": {},
   "outputs": [
    {
     "name": "stdout",
     "output_type": "stream",
     "text": [
      "Label of figure: Speed limit (30km/h)\n"
     ]
    },
    {
     "data": {
      "image/png": "[encoded data removed]",
      "text/plain": [
       "<matplotlib.figure.Figure at 0x7f44a448b0f0>"
      ]
     },
     "metadata": {
      "needs_background": "light"
     },
     "output_type": "display_data"
    }
   ],
   "source": [
    "### Data exploration visualization code goes here.\n",
    "### Feel free to use as many code cells as needed.\n",
    "import matplotlib.pyplot as plt\n",
    "# Visualizations will be shown in the notebook.\n",
    "%matplotlib inline\n",
    "\n",
    "# Randomly plot a figure and its label\n",
    "# You can check the label(number) in the csv file given\n",
    "import random\n",
    "fig_id = random.randint(0,n_train-1)\n",
    "plt.imshow(X_train[fig_id])\n",
    "\n",
    "# Get label of figure\n",
    "name_values = np.genfromtxt('signnames.csv', skip_header=1, dtype=[('myint','i8'), ('mysring','S55')], delimiter=',')\n",
    "fig_label = name_values[y_train[fig_id]][1].decode('ascii')  # The second element in the line is the label\n",
    "print (\"Label of figure:\", fig_label)"
   ]
  },
  {
   "cell_type": "code",
   "execution_count": 4,
   "metadata": {},
   "outputs": [
    {
     "data": {
      "image/png": "[encoded data removed]",
      "text/plain": [
       "<matplotlib.figure.Figure at 0x7f44841cc630>"
      ]
     },
     "metadata": {
      "needs_background": "light"
     },
     "output_type": "display_data"
    },
    {
     "data": {
      "image/png": "[encoded data removed]",
      "text/plain": [
       "<matplotlib.figure.Figure at 0x7f4484251390>"
      ]
     },
     "metadata": {
      "needs_background": "light"
     },
     "output_type": "display_data"
    },
    {
     "data": {
      "image/png": "[encoded data removed]",
      "text/plain": [
       "<matplotlib.figure.Figure at 0x7f4481b53e10>"
      ]
     },
     "metadata": {
      "needs_background": "light"
     },
     "output_type": "display_data"
    }
   ],
   "source": [
    "# Visualize the distribution of traffic sign in train, valid and test\n",
    "# We'll see that the distribution of data is similar, which is vital to the success of training\n",
    "unique_train, counts_train = np.unique(y_train, return_counts=True)\n",
    "unique_valid, counts_valid = np.unique(y_valid, return_counts=True)\n",
    "unique_test, counts_test = np.unique(y_test, return_counts=True)\n",
    "\n",
    "# Plot distribution\n",
    "plt.bar(unique_train, counts_train, color='r')\n",
    "plt.xlabel('Label')\n",
    "plt.ylabel('Count')\n",
    "plt.title('Train')\n",
    "plt.show()\n",
    "plt.bar(unique_valid, counts_valid, color='b')\n",
    "plt.xlabel('Label')\n",
    "plt.ylabel('Count')\n",
    "plt.title('Valid')\n",
    "plt.show()\n",
    "plt.bar(unique_test, counts_test, color='g')\n",
    "plt.xlabel('Label')\n",
    "plt.ylabel('Count')\n",
    "plt.title('Test')\n",
    "plt.show()"
   ]
  },
  {
   "cell_type": "markdown",
   "metadata": {},
   "source": [
    "----\n",
    "\n",
    "## Step 2: Design and Test a Model Architecture\n",
    "\n",
    "Design and implement a deep learning model that learns to recognize traffic signs. Train and test your model on the [German Traffic Sign Dataset](http://benchmark.ini.rub.de/?section=gtsrb&subsection=dataset).\n",
    "\n",
    "The LeNet-5 implementation shown in the [classroom](https://classroom.udacity.com/nanodegrees/nd013/parts/fbf77062-5703-404e-b60c-95b78b2f3f9e/modules/6df7ae49-c61c-4bb2-a23e-6527e69209ec/lessons/601ae704-1035-4287-8b11-e2c2716217ad/concepts/d4aca031-508f-4e0b-b493-e7b706120f81) at the end of the CNN lesson is a solid starting point. You'll have to change the number of classes and possibly the preprocessing, but aside from that it's plug and play! \n",
    "\n",
    "With the LeNet-5 solution from the lecture, you should expect a validation set accuracy of about 0.89. To meet specifications, the validation set accuracy will need to be at least 0.93. It is possible to get an even higher accuracy, but 0.93 is the minimum for a successful project submission. \n",
    "\n",
    "There are various aspects to consider when thinking about this problem:\n",
    "\n",
    "- Neural network architecture (is the network over or underfitting?)\n",
    "- Play around preprocessing techniques (normalization, rgb to grayscale, etc)\n",
    "- Number of examples per label (some have more than others).\n",
    "- Generate fake data.\n",
    "\n",
    "Here is an example of a [published baseline model on this problem](http://yann.lecun.com/exdb/publis/pdf/sermanet-ijcnn-11.pdf). It's not required to be familiar with the approach used in the paper but, it's good practice to try to read papers like these."
   ]
  },
  {
   "cell_type": "markdown",
   "metadata": {},
   "source": [
    "### Pre-process the Data Set (normalization, grayscale, etc.)"
   ]
  },
  {
   "cell_type": "markdown",
   "metadata": {},
   "source": [
    "Minimally, the image data should be normalized so that the data has mean zero and equal variance. For image data, `(pixel - 128)/ 128` is a quick way to approximately normalize the data and can be used in this project. \n",
    "\n",
    "Other pre-processing steps are optional. You can try different techniques to see if it improves performance. \n",
    "\n",
    "Use the code cell (or multiple code cells, if necessary) to implement the first step of your project."
   ]
  },
  {
   "cell_type": "code",
   "execution_count": 5,
   "metadata": {},
   "outputs": [
    {
     "name": "stdout",
     "output_type": "stream",
     "text": [
      "(34799, 32, 32, 1)\n",
      "(4410, 32, 32, 1)\n",
      "(12630, 32, 32, 1)\n",
      "Label of figure: Speed limit (30km/h)\n"
     ]
    },
    {
     "data": {
      "image/png": "[encoded data removed]",
      "text/plain": [
       "<matplotlib.figure.Figure at 0x7f44a6844710>"
      ]
     },
     "metadata": {
      "needs_background": "light"
     },
     "output_type": "display_data"
    }
   ],
   "source": [
    "### Preprocess the data here. It is required to normalize the data. Other preprocessing steps could include \n",
    "### converting to grayscale, etc.\n",
    "### Feel free to use as many code cells as needed.\n",
    "\n",
    "# We first convert it to gray scale.\n",
    "# Normalization is done after the data augmentation\n",
    "X_train_gray = np.sum(X_train/3, axis=3, keepdims=True)\n",
    "X_valid_gray = np.sum(X_valid/3, axis=3, keepdims=True)\n",
    "X_test_gray = np.sum(X_test/3, axis=3, keepdims=True)\n",
    "\n",
    "# Print out the dimension of data. The last dimension should be 1.\n",
    "print (X_train_gray.shape)\n",
    "print (X_valid_gray.shape)\n",
    "print (X_test_gray.shape)\n",
    "\n",
    "# Plot the gray figure\n",
    "plt.imshow(X_train_gray[fig_id].squeeze(), cmap='gray')\n",
    "print (\"Label of figure:\", fig_label)"
   ]
  },
  {
   "cell_type": "code",
   "execution_count": 6,
   "metadata": {},
   "outputs": [
    {
     "name": "stdout",
     "output_type": "stream",
     "text": [
      "(39209, 32, 32, 1)\n",
      "(39209,)\n",
      "(125439, 32, 32, 1)\n",
      "(125439,)\n"
     ]
    }
   ],
   "source": [
    "# The following three types of data augmentation are useful according to:\n",
    "#    https://github.com/Goddard/udacity-traffic-sign-classifier\n",
    "# However, the train and valid figures are merged in my implementation first, which is different from the original implementation.\n",
    "\n",
    "# Merge the train & valid data\n",
    "X_train_new = np.concatenate((X_train_gray, X_valid_gray), axis=0)\n",
    "y_train_new = np.concatenate((y_train, y_valid), axis=0)\n",
    "unique_train_new, counts_train_new = np.unique(y_train_new, return_counts=True)\n",
    "num_sample = X_train_new.shape[0]\n",
    "print (X_train_new.shape)\n",
    "print (y_train_new.shape)\n",
    "\n",
    "# Data augmentation\n",
    "import cv2\n",
    "more_X_train_new = []\n",
    "more_y_train_new = []\n",
    "for i in range(num_sample):\n",
    "    # Add original image to the list\n",
    "    more_X_train_new.append(X_train_new[i])\n",
    "    more_y_train_new.append(y_train_new[i])\n",
    "    \n",
    "    # We only duplicate the images the count of its label is less than 3000.\n",
    "    # This makes data set more equally distributed.\n",
    "    if(counts_train_new[y_train_new[i]] < 3000):\n",
    "        for j in range(5):\n",
    "            random_higher_bound = random.randint(27, 32)\n",
    "            random_lower_bound = random.randint(0, 5)\n",
    "            points_one = np.float32([[0,0],[32,0],[0,32],[32,32]])\n",
    "            points_two = np.float32([[0, 0], [random_higher_bound, random_lower_bound], [random_lower_bound, 32],[32, random_higher_bound]])\n",
    "            M = cv2.getPerspectiveTransform(points_one, points_two)\n",
    "            dst = cv2.warpPerspective(X_train_new[i], M, (32,32))\n",
    "            dst = np.reshape(dst, (32,32,1))\n",
    "            more_X_train_new.append(dst)\n",
    "            more_y_train_new.append(y_train_new[i])\n",
    "            \n",
    "            tilt = random.randint(-12, 12)\n",
    "            M = cv2.getRotationMatrix2D((X_train_new[i].shape[0]/2, X_train_new[i].shape[1]/2), tilt, 1)\n",
    "            dst = cv2.warpAffine(X_train_new[i], M, (X_train_new[i].shape[0], X_train_new[i].shape[1]))\n",
    "            dst = np.reshape(dst, (32,32,1))\n",
    "            more_X_train_new.append(dst)\n",
    "            more_y_train_new.append(y_train_new[i])\n",
    "            \n",
    "            # Two more figures added to that class\n",
    "            counts_train_new[y_train_new[i]] += 2\n",
    "            \n",
    "more_X_train_new = np.array(more_X_train_new)\n",
    "more_y_train_new = np.array(more_y_train_new)\n",
    "print (more_X_train_new.shape)\n",
    "print (more_y_train_new.shape)"
   ]
  },
  {
   "cell_type": "code",
   "execution_count": 7,
   "metadata": {},
   "outputs": [
    {
     "data": {
      "image/png": "[encoded data removed]",
      "text/plain": [
       "<matplotlib.figure.Figure at 0x7f446b3390b8>"
      ]
     },
     "metadata": {
      "needs_background": "light"
     },
     "output_type": "display_data"
    },
    {
     "data": {
      "image/png": "[encoded data removed]",
      "text/plain": [
       "<matplotlib.figure.Figure at 0x7f4481b57c50>"
      ]
     },
     "metadata": {
      "needs_background": "light"
     },
     "output_type": "display_data"
    },
    {
     "data": {
      "image/png": "[encoded data removed]",
      "text/plain": [
       "<matplotlib.figure.Figure at 0x7f4481b00630>"
      ]
     },
     "metadata": {
      "needs_background": "light"
     },
     "output_type": "display_data"
    }
   ],
   "source": [
    "# Split the train & valid data set and plot the distribution\n",
    "# We should see a more balanced distribution among different classes\n",
    "from sklearn.model_selection import train_test_split\n",
    "X_train, X_valid, y_train, y_valid = train_test_split(more_X_train_new, more_y_train_new, test_size=0.2)\n",
    "\n",
    "unique_train, counts_train = np.unique(y_train, return_counts=True)\n",
    "unique_valid, counts_valid = np.unique(y_valid, return_counts=True)\n",
    "unique_test, counts_test = np.unique(y_test, return_counts=True)\n",
    "\n",
    "# Plot distribution\n",
    "plt.bar(unique_train, counts_train, color='r')\n",
    "plt.xlabel('Label')\n",
    "plt.ylabel('Count')\n",
    "plt.title('Train')\n",
    "plt.show()\n",
    "plt.bar(unique_valid, counts_valid, color='b')\n",
    "plt.xlabel('Label')\n",
    "plt.ylabel('Count')\n",
    "plt.title('Valid')\n",
    "plt.show()\n",
    "plt.bar(unique_test, counts_test, color='g')\n",
    "plt.xlabel('Label')\n",
    "plt.ylabel('Count')\n",
    "plt.title('Test')\n",
    "plt.show()"
   ]
  },
  {
   "cell_type": "code",
   "execution_count": 8,
   "metadata": {},
   "outputs": [
    {
     "name": "stdout",
     "output_type": "stream",
     "text": [
      "0.9921875 -1.0\n",
      "0.9921875 -1.0\n",
      "0.9921875 -0.96875\n"
     ]
    }
   ],
   "source": [
    "# Normalize the dataset\n",
    "X_train = (X_train-128.0)/128.0\n",
    "X_valid = (X_valid-128.0)/128.0\n",
    "X_test = (X_test_gray-128.0)/128.0\n",
    "print (np.max(X_train), np.min(X_train))\n",
    "print (np.max(X_valid), np.min(X_valid))\n",
    "print (np.max(X_test), np.min(X_test))"
   ]
  },
  {
   "cell_type": "markdown",
   "metadata": {},
   "source": [
    "### Model Architecture"
   ]
  },
  {
   "cell_type": "code",
   "execution_count": 9,
   "metadata": {},
   "outputs": [],
   "source": [
    "### Define your architecture here.\n",
    "import tensorflow as tf\n",
    "from tensorflow.contrib.layers import flatten\n",
    "\n",
    "EPOCHS = 50\n",
    "BATCH_SIZE = 128\n",
    "keep_prob = tf.placeholder(tf.float32)\n",
    "\n",
    "def LeNet(x):    \n",
    "    # Arguments used for tf.truncated_normal, randomly defines variables for the weights and biases for each layer\n",
    "    mu = 0\n",
    "    sigma = 0.1\n",
    "    \n",
    "    # Layer1\n",
    "    conv1_W = tf.Variable(tf.truncated_normal(shape=(5, 5, 1, 6), mean = mu, stddev = sigma))\n",
    "    conv1_b = tf.Variable(tf.zeros(6))\n",
    "    conv1   = tf.nn.conv2d(x, conv1_W, strides=[1, 1, 1, 1], padding='VALID') + conv1_b\n",
    "    conv1   = tf.nn.relu(conv1)\n",
    "    conv1   = tf.nn.max_pool(conv1, ksize=[1, 2, 2, 1], strides=[1, 2, 2, 1], padding='VALID')\n",
    "    \n",
    "    # Layer2 \n",
    "    conv2_W = tf.Variable(tf.truncated_normal(shape=(5, 5, 6, 16), mean = mu, stddev = sigma))\n",
    "    conv2_b = tf.Variable(tf.zeros(16))\n",
    "    conv2   = tf.nn.conv2d(conv1, conv2_W, strides=[1, 1, 1, 1], padding='VALID') + conv2_b\n",
    "    conv2   = tf.nn.relu(conv2)\n",
    "    conv2   = tf.nn.max_pool(conv2, ksize=[1, 2, 2, 1], strides=[1, 2, 2, 1], padding='VALID')\n",
    "    \n",
    "    # Layer3\n",
    "    conv3_W = tf.Variable(tf.truncated_normal(shape=(5, 5, 16, 412), mean = mu, stddev = sigma))\n",
    "    conv3_b = tf.Variable(tf.zeros(412))\n",
    "    conv3   = tf.nn.conv2d(conv2, conv3_W, strides=[1,1,1,1], padding='VALID') + conv3_b\n",
    "    conv3   = tf.nn.relu(conv3)\n",
    "    \n",
    "    # Flatten the output for a fully connected layer\n",
    "    fc0 = flatten(conv3)\n",
    "    \n",
    "    # Layer4\n",
    "    fc1_W = tf.Variable(tf.truncated_normal(shape=(412, 122), mean = mu, stddev = sigma))\n",
    "    fc1_b = tf.Variable(tf.zeros(122))\n",
    "    fc1   = tf.nn.relu(tf.nn.bias_add(tf.matmul(fc0, fc1_W), fc1_b))\n",
    "    fc1   = tf.nn.dropout(fc1, keep_prob)\n",
    "    \n",
    "    # Layer5\n",
    "    fc2_W = tf.Variable(tf.truncated_normal(shape=(122, 84), mean = mu, stddev = sigma))\n",
    "    fc2_b = tf.Variable(tf.zeros(84))\n",
    "    fc2   = tf.nn.relu(tf.nn.bias_add(tf.matmul(fc1, fc2_W), fc2_b))\n",
    "    fc2   = tf.nn.dropout(fc2, keep_prob)\n",
    "    \n",
    "    # Layer6\n",
    "    fc3_W = tf.Variable(tf.truncated_normal(shape=(84, n_classes), mean = mu, stddev = sigma))\n",
    "    fc3_b = tf.Variable(tf.zeros(n_classes))\n",
    "    logits = tf.nn.bias_add(tf.matmul(fc2, fc3_W), fc3_b)\n",
    "    \n",
    "    return logits"
   ]
  },
  {
   "cell_type": "markdown",
   "metadata": {},
   "source": [
    "### Train, Validate and Test the Model"
   ]
  },
  {
   "cell_type": "markdown",
   "metadata": {},
   "source": [
    "A validation set can be used to assess how well the model is performing. A low accuracy on the training and validation\n",
    "sets imply underfitting. A high accuracy on the training set but low accuracy on the validation set implies overfitting."
   ]
  },
  {
   "cell_type": "code",
   "execution_count": 10,
   "metadata": {},
   "outputs": [],
   "source": [
    "### Train your model here.\n",
    "### Calculate and report the accuracy on the training and validation set.\n",
    "### Once a final model architecture is selected, \n",
    "### the accuracy on the test set should be calculated and reported as well.\n",
    "### Feel free to use as many code cells as needed.\n",
    "x = tf.placeholder(tf.float32, (None, 32, 32, 1))\n",
    "y = tf.placeholder(tf.int32, (None))\n",
    "one_hot_y = tf.one_hot(y, n_classes)\n",
    "\n",
    "# Training Pipeline\n",
    "rate = 0.0001\n",
    "logits = LeNet(x)\n",
    "cross_entropy = tf.nn.softmax_cross_entropy_with_logits(labels=one_hot_y, logits=logits)\n",
    "loss_operation = tf.reduce_mean(cross_entropy)\n",
    "optimizer = tf.train.AdamOptimizer(learning_rate = rate)\n",
    "training_operation = optimizer.minimize(loss_operation)"
   ]
  },
  {
   "cell_type": "code",
   "execution_count": 11,
   "metadata": {},
   "outputs": [],
   "source": [
    "# Model Evaluation\n",
    "correct_prediction = tf.equal(tf.argmax(logits, 1), tf.argmax(one_hot_y, 1))\n",
    "accuracy_operation = tf.reduce_mean(tf.cast(correct_prediction, tf.float32))\n",
    "saver = tf.train.Saver()\n",
    "\n",
    "def evaluate(X_data, y_data):\n",
    "    num_examples = len(X_data)\n",
    "    total_accuracy = 0\n",
    "    sess = tf.get_default_session()\n",
    "    for offset in range(0, num_examples, BATCH_SIZE):\n",
    "        batch_x, batch_y = X_data[offset:offset+BATCH_SIZE], y_data[offset:offset+BATCH_SIZE]\n",
    "        accuracy = sess.run(accuracy_operation, feed_dict={x: batch_x, y: batch_y, keep_prob: 1})\n",
    "        total_accuracy += (accuracy * len(batch_x))\n",
    "    return total_accuracy / num_examples"
   ]
  },
  {
   "cell_type": "code",
   "execution_count": 12,
   "metadata": {},
   "outputs": [
    {
     "name": "stdout",
     "output_type": "stream",
     "text": [
      "Training...\n",
      "\n",
      "EPOCH 1 ...\n",
      "Train Accuracy = 0.296\n",
      "Validation Accuracy = 0.295\n",
      "\n",
      "EPOCH 2 ...\n",
      "Train Accuracy = 0.549\n",
      "Validation Accuracy = 0.550\n",
      "\n",
      "EPOCH 3 ...\n",
      "Train Accuracy = 0.685\n",
      "Validation Accuracy = 0.682\n",
      "\n",
      "EPOCH 4 ...\n",
      "Train Accuracy = 0.746\n",
      "Validation Accuracy = 0.746\n",
      "\n",
      "EPOCH 5 ...\n",
      "Train Accuracy = 0.787\n",
      "Validation Accuracy = 0.787\n",
      "\n",
      "EPOCH 6 ...\n",
      "Train Accuracy = 0.817\n",
      "Validation Accuracy = 0.815\n",
      "\n",
      "EPOCH 7 ...\n",
      "Train Accuracy = 0.847\n",
      "Validation Accuracy = 0.844\n",
      "\n",
      "EPOCH 8 ...\n",
      "Train Accuracy = 0.872\n",
      "Validation Accuracy = 0.869\n",
      "\n",
      "EPOCH 9 ...\n",
      "Train Accuracy = 0.889\n",
      "Validation Accuracy = 0.886\n",
      "\n",
      "EPOCH 10 ...\n",
      "Train Accuracy = 0.902\n",
      "Validation Accuracy = 0.898\n",
      "\n",
      "EPOCH 11 ...\n",
      "Train Accuracy = 0.909\n",
      "Validation Accuracy = 0.905\n",
      "\n",
      "EPOCH 12 ...\n",
      "Train Accuracy = 0.919\n",
      "Validation Accuracy = 0.914\n",
      "\n",
      "EPOCH 13 ...\n",
      "Train Accuracy = 0.926\n",
      "Validation Accuracy = 0.921\n",
      "\n",
      "EPOCH 14 ...\n",
      "Train Accuracy = 0.934\n",
      "Validation Accuracy = 0.929\n",
      "\n",
      "EPOCH 15 ...\n",
      "Train Accuracy = 0.938\n",
      "Validation Accuracy = 0.933\n",
      "\n",
      "EPOCH 16 ...\n",
      "Train Accuracy = 0.946\n",
      "Validation Accuracy = 0.941\n",
      "\n",
      "EPOCH 17 ...\n",
      "Train Accuracy = 0.951\n",
      "Validation Accuracy = 0.946\n",
      "\n",
      "EPOCH 18 ...\n",
      "Train Accuracy = 0.956\n",
      "Validation Accuracy = 0.951\n",
      "\n",
      "EPOCH 19 ...\n",
      "Train Accuracy = 0.958\n",
      "Validation Accuracy = 0.952\n",
      "\n",
      "EPOCH 20 ...\n",
      "Train Accuracy = 0.963\n",
      "Validation Accuracy = 0.957\n",
      "\n",
      "EPOCH 21 ...\n",
      "Train Accuracy = 0.964\n",
      "Validation Accuracy = 0.960\n",
      "\n",
      "EPOCH 22 ...\n",
      "Train Accuracy = 0.968\n",
      "Validation Accuracy = 0.963\n",
      "\n",
      "EPOCH 23 ...\n",
      "Train Accuracy = 0.972\n",
      "Validation Accuracy = 0.967\n",
      "\n",
      "EPOCH 24 ...\n",
      "Train Accuracy = 0.973\n",
      "Validation Accuracy = 0.967\n",
      "\n",
      "EPOCH 25 ...\n",
      "Train Accuracy = 0.973\n",
      "Validation Accuracy = 0.966\n",
      "\n",
      "EPOCH 26 ...\n",
      "Train Accuracy = 0.976\n",
      "Validation Accuracy = 0.971\n",
      "\n",
      "EPOCH 27 ...\n",
      "Train Accuracy = 0.978\n",
      "Validation Accuracy = 0.972\n",
      "\n",
      "EPOCH 28 ...\n",
      "Train Accuracy = 0.979\n",
      "Validation Accuracy = 0.974\n",
      "\n",
      "EPOCH 29 ...\n",
      "Train Accuracy = 0.982\n",
      "Validation Accuracy = 0.976\n",
      "\n",
      "EPOCH 30 ...\n",
      "Train Accuracy = 0.983\n",
      "Validation Accuracy = 0.977\n",
      "\n",
      "EPOCH 31 ...\n",
      "Train Accuracy = 0.984\n",
      "Validation Accuracy = 0.978\n",
      "\n",
      "EPOCH 32 ...\n",
      "Train Accuracy = 0.984\n",
      "Validation Accuracy = 0.978\n",
      "\n",
      "EPOCH 33 ...\n",
      "Train Accuracy = 0.986\n",
      "Validation Accuracy = 0.979\n",
      "\n",
      "EPOCH 34 ...\n",
      "Train Accuracy = 0.986\n",
      "Validation Accuracy = 0.980\n",
      "\n",
      "EPOCH 35 ...\n",
      "Train Accuracy = 0.987\n",
      "Validation Accuracy = 0.980\n",
      "\n",
      "EPOCH 36 ...\n",
      "Train Accuracy = 0.987\n",
      "Validation Accuracy = 0.981\n",
      "\n",
      "EPOCH 37 ...\n",
      "Train Accuracy = 0.989\n",
      "Validation Accuracy = 0.983\n",
      "\n",
      "EPOCH 38 ...\n",
      "Train Accuracy = 0.990\n",
      "Validation Accuracy = 0.983\n",
      "\n",
      "EPOCH 39 ...\n",
      "Train Accuracy = 0.990\n",
      "Validation Accuracy = 0.984\n",
      "\n",
      "EPOCH 40 ...\n",
      "Train Accuracy = 0.991\n",
      "Validation Accuracy = 0.984\n",
      "\n",
      "EPOCH 41 ...\n",
      "Train Accuracy = 0.992\n",
      "Validation Accuracy = 0.986\n",
      "\n",
      "EPOCH 42 ...\n",
      "Train Accuracy = 0.992\n",
      "Validation Accuracy = 0.986\n",
      "\n",
      "EPOCH 43 ...\n",
      "Train Accuracy = 0.992\n",
      "Validation Accuracy = 0.986\n",
      "\n",
      "EPOCH 44 ...\n",
      "Train Accuracy = 0.993\n",
      "Validation Accuracy = 0.986\n",
      "\n",
      "EPOCH 45 ...\n",
      "Train Accuracy = 0.993\n",
      "Validation Accuracy = 0.988\n",
      "\n",
      "EPOCH 46 ...\n",
      "Train Accuracy = 0.994\n",
      "Validation Accuracy = 0.988\n",
      "\n",
      "EPOCH 47 ...\n",
      "Train Accuracy = 0.994\n",
      "Validation Accuracy = 0.988\n",
      "\n",
      "EPOCH 48 ...\n",
      "Train Accuracy = 0.994\n",
      "Validation Accuracy = 0.988\n",
      "\n",
      "EPOCH 49 ...\n",
      "Train Accuracy = 0.995\n",
      "Validation Accuracy = 0.989\n",
      "\n",
      "EPOCH 50 ...\n",
      "Train Accuracy = 0.995\n",
      "Validation Accuracy = 0.988\n",
      "\n",
      "Model saved\n"
     ]
    }
   ],
   "source": [
    "# Train the model\n",
    "from sklearn.utils import shuffle\n",
    "\n",
    "with tf.Session() as sess:\n",
    "    sess.run(tf.global_variables_initializer())\n",
    "    num_examples = len(X_train)\n",
    "    \n",
    "    print(\"Training...\")\n",
    "    print()\n",
    "    for i in range(EPOCHS):\n",
    "        X_train, y_train = shuffle(X_train, y_train)\n",
    "        for offset in range(0, num_examples, BATCH_SIZE):\n",
    "            end = offset + BATCH_SIZE\n",
    "            batch_x, batch_y = X_train[offset:end], y_train[offset:end]\n",
    "            sess.run(training_operation, feed_dict={x: batch_x, y: batch_y, keep_prob: 0.5})\n",
    "        \n",
    "        train_accuracy = evaluate(X_train, y_train)\n",
    "        validation_accuracy = evaluate(X_valid, y_valid)\n",
    "        print(\"EPOCH {} ...\".format(i+1))\n",
    "        print (\"Train Accuracy = {:.3f}\".format(train_accuracy))\n",
    "        print(\"Validation Accuracy = {:.3f}\".format(validation_accuracy))\n",
    "        print()\n",
    "        \n",
    "    saver.save(sess, './lenet')\n",
    "    print(\"Model saved\")"
   ]
  },
  {
   "cell_type": "code",
   "execution_count": 13,
   "metadata": {},
   "outputs": [
    {
     "name": "stdout",
     "output_type": "stream",
     "text": [
      "INFO:tensorflow:Restoring parameters from ./lenet\n",
      "Test Accuracy = 0.916\n"
     ]
    }
   ],
   "source": [
    "# Performance on test set\n",
    "with tf.Session() as sess:\n",
    "    saver.restore(sess, tf.train.latest_checkpoint('.'))\n",
    "\n",
    "    test_accuracy = evaluate(X_test, y_test)\n",
    "    print(\"Test Accuracy = {:.3f}\".format(test_accuracy))"
   ]
  },
  {
   "cell_type": "markdown",
   "metadata": {},
   "source": [
    "---\n",
    "\n",
    "## Step 3: Test a Model on New Images\n",
    "\n",
    "To give yourself more insight into how your model is working, download at least five pictures of German traffic signs from the web and use your model to predict the traffic sign type.\n",
    "\n",
    "You may find `signnames.csv` useful as it contains mappings from the class id (integer) to the actual sign name."
   ]
  },
  {
   "cell_type": "markdown",
   "metadata": {},
   "source": [
    "### Load and Output the Images"
   ]
  },
  {
   "cell_type": "code",
   "execution_count": 14,
   "metadata": {},
   "outputs": [
    {
     "name": "stdout",
     "output_type": "stream",
     "text": [
      "label = Bumpy road\n"
     ]
    },
    {
     "data": {
      "image/png": "[encoded data removed]",
      "text/plain": [
       "<matplotlib.figure.Figure at 0x7f4444e97a20>"
      ]
     },
     "metadata": {
      "needs_background": "light"
     },
     "output_type": "display_data"
    },
    {
     "name": "stdout",
     "output_type": "stream",
     "text": [
      "label = No vehicles\n"
     ]
    },
    {
     "data": {
      "image/png": "[encoded data removed]",
      "text/plain": [
       "<matplotlib.figure.Figure at 0x7f4481b9f5f8>"
      ]
     },
     "metadata": {
      "needs_background": "light"
     },
     "output_type": "display_data"
    },
    {
     "name": "stdout",
     "output_type": "stream",
     "text": [
      "label = Go straight or left\n"
     ]
    },
    {
     "data": {
      "image/png": "[encoded data removed]",
      "text/plain": [
       "<matplotlib.figure.Figure at 0x7f446b339470>"
      ]
     },
     "metadata": {
      "needs_background": "light"
     },
     "output_type": "display_data"
    },
    {
     "name": "stdout",
     "output_type": "stream",
     "text": [
      "label = Speed limit (30km/h)\n"
     ]
    },
    {
     "data": {
      "image/png": "[encoded data removed]",
      "text/plain": [
       "<matplotlib.figure.Figure at 0x7f43d4137fd0>"
      ]
     },
     "metadata": {
      "needs_background": "light"
     },
     "output_type": "display_data"
    },
    {
     "name": "stdout",
     "output_type": "stream",
     "text": [
      "label = Ahead only\n"
     ]
    },
    {
     "data": {
      "image/png": "[encoded data removed]",
      "text/plain": [
       "<matplotlib.figure.Figure at 0x7f4481b57f28>"
      ]
     },
     "metadata": {
      "needs_background": "light"
     },
     "output_type": "display_data"
    },
    {
     "name": "stdout",
     "output_type": "stream",
     "text": [
      "(5, 32, 32, 1)\n"
     ]
    }
   ],
   "source": [
    "### Load the images and plot them here.\n",
    "### Feel free to use as many code cells as needed.\n",
    "import glob\n",
    "images = sorted(glob.glob('./my_traffic_sign/*.png'))\n",
    "labels = np.array([22,15,37,1,35])\n",
    "\n",
    "# Plot the gray sacle image and its label\n",
    "gray_images = []\n",
    "for image, label in zip(images,labels):\n",
    "    img = cv2.imread(image)\n",
    "    img_gray = np.sum(img/3.0, axis=2, keepdims=True)\n",
    "    gray_images.append(img_gray)\n",
    "    print (\"label =\", name_values[label][1].decode('ascii'))\n",
    "    plt.imshow(img_gray.squeeze(), cmap='gray')\n",
    "    plt.show()\n",
    "\n",
    "# Preprocess gray_images so that it can be fed into tensorflow\n",
    "gray_images = np.array(gray_images)\n",
    "print (gray_images.shape)"
   ]
  },
  {
   "cell_type": "markdown",
   "metadata": {},
   "source": [
    "### Predict the Sign Type for Each Image"
   ]
  },
  {
   "cell_type": "code",
   "execution_count": 15,
   "metadata": {},
   "outputs": [
    {
     "name": "stdout",
     "output_type": "stream",
     "text": [
      "INFO:tensorflow:Restoring parameters from ./lenet\n",
      "The actual label is 'Bumpy road', The predicted label is 'Bumpy road'\n",
      "The actual label is 'No vehicles', The predicted label is 'Priority road'\n",
      "The actual label is 'Go straight or left', The predicted label is 'Go straight or left'\n",
      "The actual label is 'Speed limit (30km/h)', The predicted label is 'Speed limit (30km/h)'\n",
      "The actual label is 'Ahead only', The predicted label is 'Ahead only'\n"
     ]
    }
   ],
   "source": [
    "### Run the predictions here and use the model to output the prediction for each image.\n",
    "### Make sure to pre-process the images with the same pre-processing pipeline used earlier.\n",
    "### Feel free to use as many code cells as needed.\n",
    "with tf.Session() as sess:\n",
    "    saver.restore(sess, tf.train.latest_checkpoint('.'))\n",
    "    prediction = sess.run(logits, feed_dict={x: gray_images, keep_prob: 1})\n",
    "    prediction = np.argmax(prediction, axis=1)\n",
    "    # Print out the actual label and the predicted label.\n",
    "    # You should see a 100% accuracy here.\n",
    "    for pred, label in zip(prediction, labels):\n",
    "        print (\"The actual label is '{}', The predicted label is '{}'\".format(\n",
    "            name_values[label][1].decode('ascii'), name_values[pred][1].decode('ascii')\n",
    "        ))"
   ]
  },
  {
   "cell_type": "markdown",
   "metadata": {},
   "source": [
    "### Analyze Performance"
   ]
  },
  {
   "cell_type": "code",
   "execution_count": 16,
   "metadata": {},
   "outputs": [
    {
     "name": "stdout",
     "output_type": "stream",
     "text": [
      "INFO:tensorflow:Restoring parameters from ./lenet\n",
      "Test Accuracy = 0.800\n"
     ]
    }
   ],
   "source": [
    "### Calculate the accuracy for these 5 new images. \n",
    "### For example, if the model predicted 1 out of 5 signs correctly, it's 20% accurate on these new images.\n",
    "# Simply redo an accuracy operation\n",
    "with tf.Session() as sess:\n",
    "    saver.restore(sess, tf.train.latest_checkpoint('.'))\n",
    "\n",
    "    test_accuracy = evaluate(gray_images, labels)\n",
    "    print(\"Test Accuracy = {:.3f}\".format(test_accuracy))"
   ]
  },
  {
   "cell_type": "markdown",
   "metadata": {},
   "source": [
    "### Output Top 5 Softmax Probabilities For Each Image Found on the Web"
   ]
  },
  {
   "cell_type": "markdown",
   "metadata": {},
   "source": [
    "For each of the new images, print out the model's softmax probabilities to show the **certainty** of the model's predictions (limit the output to the top 5 probabilities for each image). [`tf.nn.top_k`](https://www.tensorflow.org/versions/r0.12/api_docs/python/nn.html#top_k) could prove helpful here. \n",
    "\n",
    "The example below demonstrates how tf.nn.top_k can be used to find the top k predictions for each image.\n",
    "\n",
    "`tf.nn.top_k` will return the values and indices (class ids) of the top k predictions. So if k=3, for each sign, it'll return the 3 largest probabilities (out of a possible 43) and the correspoding class ids.\n",
    "\n",
    "Take this numpy array as an example. The values in the array represent predictions. The array contains softmax probabilities for five candidate images with six possible classes. `tf.nn.top_k` is used to choose the three classes with the highest probability:\n",
    "\n",
    "```\n",
    "# (5, 6) array\n",
    "a = np.array([[ 0.24879643,  0.07032244,  0.12641572,  0.34763842,  0.07893497,\n",
    "         0.12789202],\n",
    "       [ 0.28086119,  0.27569815,  0.08594638,  0.0178669 ,  0.18063401,\n",
    "         0.15899337],\n",
    "       [ 0.26076848,  0.23664738,  0.08020603,  0.07001922,  0.1134371 ,\n",
    "         0.23892179],\n",
    "       [ 0.11943333,  0.29198961,  0.02605103,  0.26234032,  0.1351348 ,\n",
    "         0.16505091],\n",
    "       [ 0.09561176,  0.34396535,  0.0643941 ,  0.16240774,  0.24206137,\n",
    "         0.09155967]])\n",
    "```\n",
    "\n",
    "Running it through `sess.run(tf.nn.top_k(tf.constant(a), k=3))` produces:\n",
    "\n",
    "```\n",
    "TopKV2(values=array([[ 0.34763842,  0.24879643,  0.12789202],\n",
    "       [ 0.28086119,  0.27569815,  0.18063401],\n",
    "       [ 0.26076848,  0.23892179,  0.23664738],\n",
    "       [ 0.29198961,  0.26234032,  0.16505091],\n",
    "       [ 0.34396535,  0.24206137,  0.16240774]]), indices=array([[3, 0, 5],\n",
    "       [0, 1, 4],\n",
    "       [0, 5, 1],\n",
    "       [1, 3, 5],\n",
    "       [1, 4, 3]], dtype=int32))\n",
    "```\n",
    "\n",
    "Looking just at the first row we get `[ 0.34763842,  0.24879643,  0.12789202]`, you can confirm these are the 3 largest probabilities in `a`. You'll also notice `[3, 0, 5]` are the corresponding indices."
   ]
  },
  {
   "cell_type": "code",
   "execution_count": 17,
   "metadata": {},
   "outputs": [
    {
     "name": "stdout",
     "output_type": "stream",
     "text": [
      "INFO:tensorflow:Restoring parameters from ./lenet\n",
      "Certainty of Image0 = [ 1.  0.  0.  0.  0.]\n",
      "Certainty of Image1 = [ 1.  0.  0.  0.  0.]\n",
      "Certainty of Image2 = [ 1.  0.  0.  0.  0.]\n",
      "Certainty of Image3 = [ 1.  0.  0.  0.  0.]\n",
      "Certainty of Image4 = [ 1.  0.  0.  0.  0.]\n"
     ]
    }
   ],
   "source": [
    "### Print out the top five softmax probabilities for the predictions on the German traffic sign images found on the web. \n",
    "### Feel free to use as many code cells as needed.\n",
    "prob = tf.nn.softmax(logits)\n",
    "top_k_prob = tf.nn.top_k(prob, k=5)\n",
    "# Run the session\n",
    "with tf.Session() as sess:\n",
    "    saver.restore(sess, tf.train.latest_checkpoint('.'))\n",
    "    prediction = sess.run(top_k_prob, feed_dict={x: gray_images, keep_prob: 1})\n",
    "    for i in range(5):\n",
    "        # We're quite certain in the prediction, which is great!\n",
    "        print (\"Certainty of Image{} = {}\".format(i, prediction.values[i]))\n"
   ]
  },
  {
   "cell_type": "markdown",
   "metadata": {},
   "source": [
    "### Project Writeup\n",
    "\n",
    "Once you have completed the code implementation, document your results in a project writeup using this [template](https://github.com/udacity/CarND-Traffic-Sign-Classifier-Project/blob/master/writeup_template.md) as a guide. The writeup can be in a markdown or pdf file. "
   ]
  },
  {
   "cell_type": "markdown",
   "metadata": {},
   "source": [
    "> **Note**: Once you have completed all of the code implementations and successfully answered each question above, you may finalize your work by exporting the iPython Notebook as an HTML document. You can do this by using the menu above and navigating to  \\n\",\n",
    "    \"**File -> Download as -> HTML (.html)**. Include the finished document along with this notebook as your submission."
   ]
  }
 ],
 "metadata": {
  "anaconda-cloud": {},
  "kernelspec": {
   "display_name": "Python 3",
   "language": "python",
   "name": "python3"
  },
  "language_info": {
   "codemirror_mode": {
    "name": "ipython",
    "version": 3
   },
   "file_extension": ".py",
   "mimetype": "text/x-python",
   "name": "python",
   "nbconvert_exporter": "python",
   "pygments_lexer": "ipython3",
   "version": "3.5.2"
  },
  "widgets": {
   "state": {},
   "version": "1.1.2"
  }
 },
 "nbformat": 4,
 "nbformat_minor": 1
}
